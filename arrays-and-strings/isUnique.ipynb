{
 "cells": [
  {
   "cell_type": "code",
   "execution_count": 19,
   "metadata": {},
   "outputs": [],
   "source": [
    "def isUnique(s1):\n",
    "    s1 = str(s1)\n",
    "    s1.islower()\n",
    "    for i in s1:\n",
    "        if s1.count(i) > 1:\n",
    "            return False\n",
    "    return True\n",
    "    \n",
    "    "
   ]
  },
  {
   "cell_type": "code",
   "execution_count": 20,
   "metadata": {},
   "outputs": [
    {
     "name": "stdout",
     "output_type": "stream",
     "text": [
      "True\n"
     ]
    }
   ],
   "source": [
    "s1 = 'minh'\n",
    "print(isUnique(s1))"
   ]
  }
 ],
 "metadata": {
  "interpreter": {
   "hash": "1457781d4561370494842d8c66d37eac197c7ba6b884fdfe0105c720dd143999"
  },
  "kernelspec": {
   "display_name": "Python 3.9.7 64-bit",
   "language": "python",
   "name": "python3"
  },
  "language_info": {
   "codemirror_mode": {
    "name": "ipython",
    "version": 3
   },
   "file_extension": ".py",
   "mimetype": "text/x-python",
   "name": "python",
   "nbconvert_exporter": "python",
   "pygments_lexer": "ipython3",
   "version": "3.9.7"
  },
  "orig_nbformat": 4
 },
 "nbformat": 4,
 "nbformat_minor": 2
}
