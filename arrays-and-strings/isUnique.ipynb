{
 "cells": [
  {
   "cell_type": "markdown",
   "metadata": {},
   "source": [
    "## Question\n",
    "\n",
    "You are given a string. Write a function to determine if all of the characters in the string appear only once.\n",
    "\n",
    "Your function shouldn't care about capitalization. `A` is the same as `a`.\n",
    "\n",
    "```\n",
    "Input - \"heLlo\"\n",
    "Output - False\n",
    "\n",
    "Input - \"hey\"\n",
    "Output - True"
   ]
  },
  {
   "cell_type": "code",
   "execution_count": 32,
   "metadata": {},
   "outputs": [],
   "source": [
    "def isUnique(s1):\n",
    "    s1 = str(s1)\n",
    "    s1.islower()\n",
    "    for i in s1:\n",
    "        if s1.count(i) > 1:\n",
    "            return False\n",
    "    return True    "
   ]
  },
  {
   "cell_type": "code",
   "execution_count": 33,
   "metadata": {},
   "outputs": [],
   "source": [
    "def isUnique(s):\n",
    "    s = s.lower()\n",
    "    for i1, c1  in enumerate(s):\n",
    "        for i2, c2 in enumerate(s):\n",
    "            if i1 == i2: \n",
    "                continue\n",
    "            if c1 == c2: \n",
    "                return False\n",
    "    return True"
   ]
  },
  {
   "cell_type": "code",
   "execution_count": 34,
   "metadata": {},
   "outputs": [],
   "source": [
    "def isUnique(s):\n",
    "    s = sorted(s.lower())\n",
    "    for i in range(1, len(s)):\n",
    "        if s[i] == s[i - 1]:\n",
    "            return False\n",
    "    return True"
   ]
  },
  {
   "cell_type": "code",
   "execution_count": 35,
   "metadata": {},
   "outputs": [],
   "source": [
    "def isUnique(s):\n",
    "      s = s.lower()\n",
    "      seen = set()\n",
    "      for c in s:\n",
    "          if c in seen:\n",
    "              return False\n",
    "          else:\n",
    "              seen.add(c)\n",
    "      return True"
   ]
  },
  {
   "cell_type": "code",
   "execution_count": 36,
   "metadata": {},
   "outputs": [],
   "source": [
    "def isUnique(s):\n",
    "    checker = 0\n",
    "    for i in range(len(s)):\n",
    "        index = ord(s[i])\n",
    "        if 65 <= index <= 90:\n",
    "            index += 32\n",
    "        value = (checker & ((1 << index)))\n",
    "        if value > 0:\n",
    "            return False\n",
    "        checker =  checker | (1 << index)\n",
    "    return True"
   ]
  },
  {
   "cell_type": "code",
   "execution_count": 37,
   "metadata": {},
   "outputs": [
    {
     "name": "stdout",
     "output_type": "stream",
     "text": [
      "True\n"
     ]
    }
   ],
   "source": [
    "s1 = 'minh'\n",
    "print(isUnique(s1))"
   ]
  },
  {
   "cell_type": "code",
   "execution_count": 38,
   "metadata": {},
   "outputs": [
    {
     "name": "stdout",
     "output_type": "stream",
     "text": [
      "False\n"
     ]
    }
   ],
   "source": [
    "s1 = 'thann'\n",
    "print(isUnique(s1))"
   ]
  }
 ],
 "metadata": {
  "interpreter": {
   "hash": "1457781d4561370494842d8c66d37eac197c7ba6b884fdfe0105c720dd143999"
  },
  "kernelspec": {
   "display_name": "Python 3.9.7 64-bit",
   "language": "python",
   "name": "python3"
  },
  "language_info": {
   "codemirror_mode": {
    "name": "ipython",
    "version": 3
   },
   "file_extension": ".py",
   "mimetype": "text/x-python",
   "name": "python",
   "nbconvert_exporter": "python",
   "pygments_lexer": "ipython3",
   "version": "3.9.7"
  },
  "orig_nbformat": 4
 },
 "nbformat": 4,
 "nbformat_minor": 2
}
