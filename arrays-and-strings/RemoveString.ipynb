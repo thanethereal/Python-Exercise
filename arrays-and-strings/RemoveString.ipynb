{
 "cells": [
  {
   "cell_type": "code",
   "execution_count": 1,
   "metadata": {},
   "outputs": [
    {
     "name": "stdout",
     "output_type": "stream",
     "text": [
      "The original string is : stringtostring\n",
      "The modified string : stringtos\n"
     ]
    }
   ],
   "source": [
    "# Python3 code to demonstrate working of\n",
    "# Remove K length Duplicates from String\n",
    "# Using loop + slicing\n",
    "\n",
    "# initializing strings\n",
    "test_str = 'stringtostring'\n",
    "\n",
    "# printing original string\n",
    "print(\"The original string is : \" + test_str)\n",
    "\n",
    "# initializing K\n",
    "K = 3\n",
    "\n",
    "memo = set()\n",
    "res = []\n",
    "for idx in range(0, len(test_str) - K):\n",
    "\t\n",
    "\t# slicing K length substrings\n",
    "\tsub = test_str[idx : idx + K]\n",
    "\t\n",
    "\t# checking for presence\n",
    "\tif sub not in memo:\n",
    "\t\tmemo.add(sub)\n",
    "\t\tres.append(sub)\n",
    "\t\t\n",
    "res = ''.join(res[ele] for ele in range(0, len(res), K))\n",
    "\n",
    "# printing result\n",
    "print(\"The modified string : \" + res)\n"
   ]
  },
  {
   "cell_type": "code",
   "execution_count": 2,
   "metadata": {},
   "outputs": [
    {
     "name": "stdout",
     "output_type": "stream",
     "text": [
      "[2, 4, 10, 20, 5]\n"
     ]
    }
   ],
   "source": [
    "# Python code to remove duplicate elements\n",
    "def Remove(duplicate):\n",
    "\tfinal_list = []\n",
    "\tfor num in duplicate:\n",
    "\t\tif num not in final_list:\n",
    "\t\t\tfinal_list.append(num)\n",
    "\treturn final_list\n",
    "\t\n",
    "# Driver Code\n",
    "duplicate = [2, 4, 10, 20, 5, 2, 20, 4]\n",
    "print(Remove(duplicate))\n"
   ]
  },
  {
   "cell_type": "code",
   "execution_count": 3,
   "metadata": {},
   "outputs": [
    {
     "name": "stdout",
     "output_type": "stream",
     "text": [
      "Without Order =  sorgint\n",
      "With Order =  stringo\n"
     ]
    }
   ],
   "source": [
    "from collections import OrderedDict\n",
    "\n",
    "# Function to remove all duplicates from string\n",
    "# and order does not matter\n",
    "def removeDupWithoutOrder(str):\n",
    "\n",
    "\t# set() --> A Set is an unordered collection\n",
    "\t#\t\t data type that is iterable, mutable,\n",
    "\t#\t\t and has no duplicate elements.\n",
    "\t# \"\".join() --> It joins two adjacent elements in\n",
    "\t#\t\t\t iterable with any symbol defined in\n",
    "\t#\t\t\t \"\" ( double quotes ) and returns a\n",
    "\t#\t\t\t single string\n",
    "\treturn \"\".join(set(str))\n",
    "\n",
    "# Function to remove all duplicates from string\n",
    "# and keep the order of characters same\n",
    "def removeDupWithOrder(str):\n",
    "\treturn \"\".join(OrderedDict.fromkeys(str))\n",
    "\n",
    "# Driver program\n",
    "if __name__ == \"__main__\":\n",
    "\tstr = \"stringtostring\"\n",
    "\tprint (\"Without Order = \",removeDupWithoutOrder(str))\n",
    "\tprint (\"With Order = \",removeDupWithOrder(str))\n",
    "\n"
   ]
  },
  {
   "cell_type": "code",
   "execution_count": 4,
   "metadata": {},
   "outputs": [
    {
     "name": "stdout",
     "output_type": "stream",
     "text": [
      "geksforgeks\n",
      "abca\n"
     ]
    }
   ],
   "source": [
    "# Recursive Program to remove consecutive\n",
    "# duplicates from string S.\n",
    "def removeConsecutiveDuplicates(s):\n",
    "\tif len(s)<2:\n",
    "\t\treturn s\n",
    "\tif s[0]!=s[1]:\n",
    "\t\treturn s[0]+removeConsecutiveDuplicates(s[1:])\n",
    "\treturn removeConsecutiveDuplicates(s[1:])\n",
    "\n",
    "# This code is contributed by direwolf707\n",
    "s1='geeksforgeeks'\n",
    "print(removeConsecutiveDuplicates(s1)) #geksforgeks\n",
    "s2='aabcca'\n",
    "print(removeConsecutiveDuplicates(s2)) #ab\n",
    "\n",
    "# This code is contributed by rahulsood707.\n"
   ]
  },
  {
   "cell_type": "code",
   "execution_count": 5,
   "metadata": {},
   "outputs": [
    {
     "name": "stdout",
     "output_type": "stream",
     "text": [
      "geksforgeks\n",
      "abca\n"
     ]
    }
   ],
   "source": [
    "# Python3 program to remove consecutive\n",
    "# duplicates from a given string.\n",
    "\n",
    "# A iterative function that removes\n",
    "# consecutive duplicates from string S\n",
    "def removeDuplicates(S):\n",
    "\t\t\n",
    "\tn = len(S)\n",
    "\t\n",
    "\t# We don't need to do anything for\n",
    "\t# empty or single character string.\n",
    "\tif (n < 2) :\n",
    "\t\treturn\n",
    "\t\t\n",
    "\t# j is used to store index is result\n",
    "\t# string (or index of current distinct\n",
    "\t# character)\n",
    "\tj = 0\n",
    "\t\n",
    "\t# Traversing string\n",
    "\tfor i in range(n):\n",
    "\t\t\n",
    "\t\t# If current character S[i]\n",
    "\t\t# is different from S[j]\n",
    "\t\tif (S[j] != S[i]):\n",
    "\t\t\tj += 1\n",
    "\t\t\tS[j] = S[i]\n",
    "\t\n",
    "\t# Putting string termination\n",
    "\t# character.\n",
    "\tj += 1\n",
    "\tS = S[:j]\n",
    "\treturn S\n",
    "\t\n",
    "# Driver Code\n",
    "if __name__ == '__main__':\n",
    "\t\t\n",
    "\tS1 = \"geeksforgeeks\"\n",
    "\tS1 = list(S1.rstrip())\n",
    "\tS1 = removeDuplicates(S1)\n",
    "\tprint(*S1, sep = \"\")\n",
    "\t\t\n",
    "\tS2 = \"aabcca\"\n",
    "\tS2 = list(S2.rstrip())\n",
    "\tS2 = removeDuplicates(S2)\n",
    "\tprint(*S2, sep = \"\")\n",
    "\n",
    "# This code is contributed by\n",
    "# Shubham Singh(SHUBHAMSINGH10)\n"
   ]
  },
  {
   "cell_type": "markdown",
   "metadata": {},
   "source": [
    "Input: str = “abbcbbbaaa” \n",
    "Output: Yes \n",
    "Explanation: \n",
    "On removing all consecutive duplicates characters, the string becomes “abcba” which is a palindrome.\n",
    "Input: str = “aaabbbaaccc” \n",
    "Output: No \n",
    "Explanation: \n",
    "On removing all consecutive duplicates characters, the string becomes “abac” which is not a palindrome. "
   ]
  },
  {
   "cell_type": "code",
   "execution_count": 6,
   "metadata": {},
   "outputs": [
    {
     "name": "stdout",
     "output_type": "stream",
     "text": [
      "Yes\n"
     ]
    }
   ],
   "source": [
    "# Python3 program for the above approach\n",
    "\n",
    "# Function to check if a string\n",
    "# is palindrome or not\n",
    "def isPalindrome(Str):\n",
    "\n",
    "\t# Length of the string\n",
    "\tLen = len(Str)\n",
    "\n",
    "\t# Check if its a palindrome\n",
    "\tfor i in range(Len):\n",
    "\n",
    "\t\t# If the palindromic\n",
    "\t\t# condition is not met\n",
    "\t\tif (Str[i] != Str[Len - i - 1]):\n",
    "\t\t\treturn False\n",
    "\n",
    "\t# Return true as Str is palindromic\n",
    "\treturn True\n",
    "\n",
    "# Function to check if string str is\n",
    "# palindromic after removing every\n",
    "# consecutive characters from the str\n",
    "def isCompressablePalindrome(Str):\n",
    "\n",
    "\t# Length of the string str\n",
    "\tLen = len(Str)\n",
    "\n",
    "\t# Create an empty compressed string\n",
    "\tcompressed = \"\"\n",
    "\n",
    "\t# The first character will always\n",
    "\t# be included in final string\n",
    "\tcompressed += Str[0]\n",
    "\n",
    "\t# Check all the characters\n",
    "\t# of the string\n",
    "\tfor i in range(1, Len):\n",
    "\n",
    "\t\t# If the current character\n",
    "\t\t# is not same as its previous\n",
    "\t\t# one, then insert it in\n",
    "\t\t# the final string\n",
    "\t\tif (Str[i] != Str[i - 1]):\n",
    "\t\t\tcompressed += Str[i]\n",
    "\n",
    "\t# Check if the compressed\n",
    "\t# string is a palindrome\n",
    "\treturn isPalindrome(compressed)\n",
    "\n",
    "# Driver Code\n",
    "if __name__ == '__main__':\n",
    "\t\n",
    "\t# Given string\n",
    "\tStr = \"abbcbbbaaa\"\n",
    "\n",
    "\t# Function call\n",
    "\tif (isCompressablePalindrome(Str)):\n",
    "\t\tprint(\"Yes\")\n",
    "\telse:\n",
    "\t\tprint(\"No\")\n",
    "\n",
    "# This code is contributed by himanshu77\n"
   ]
  }
 ],
 "metadata": {
  "interpreter": {
   "hash": "1457781d4561370494842d8c66d37eac197c7ba6b884fdfe0105c720dd143999"
  },
  "kernelspec": {
   "display_name": "Python 3.9.7 64-bit",
   "language": "python",
   "name": "python3"
  },
  "language_info": {
   "codemirror_mode": {
    "name": "ipython",
    "version": 3
   },
   "file_extension": ".py",
   "mimetype": "text/x-python",
   "name": "python",
   "nbconvert_exporter": "python",
   "pygments_lexer": "ipython3",
   "version": "3.9.7"
  },
  "orig_nbformat": 4
 },
 "nbformat": 4,
 "nbformat_minor": 2
}
