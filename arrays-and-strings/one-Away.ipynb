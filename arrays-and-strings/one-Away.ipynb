{
 "cells": [
  {
   "cell_type": "markdown",
   "metadata": {},
   "source": [
    "## Question\n",
    "\n",
    "You are given two strings as input. You want to find out if these two strings are at most one edit away from each other.\n",
    "\n",
    "An edit is defined as either\n",
    "\n",
    "- inserting a character\n",
    "- removing a character\n",
    "- replacing a character\n",
    "\n",
    "```\n",
    "Input - \"whale\", \"wrale\"\n",
    "Output - True\n",
    "\n",
    "Input - \"rake\", \"care\"\n",
    "Output - False\n",
    "\n",
    "Input - \"rake\", \"rake\"\n",
    "Output - True"
   ]
  },
  {
   "cell_type": "code",
   "execution_count": 1,
   "metadata": {},
   "outputs": [],
   "source": [
    "def oneAway(s1, s2):\n",
    "    if abs(len(s1) - len(s2)) > 1:\n",
    "        return False\n",
    "    # p1 is pointer for s1\n",
    "    # p2 is pointer for s2\n",
    "    p1, p2 = 0, 0\n",
    "    madeEdit = False\n",
    "    while p1 < len(s1) and p2 < len(s2):\n",
    "        if s1[p1] == s2[p2]:\n",
    "            p1 += 1\n",
    "            p2 += 1\n",
    "        elif not madeEdit:\n",
    "            madeEdit = True\n",
    "            if len(s1) == len(s2):\n",
    "                p1 += 1\n",
    "                p2 += 1\n",
    "                # this represents a replacement.\n",
    "                # we \"pretend\" there's a replacement\n",
    "                # and now we can view s1[p1] as equal\n",
    "                # to s2[p2] and increment p1, p2\n",
    "            elif len(s1) < len(s2):\n",
    "                p2 += 1\n",
    "                # we \"delete\" the char at p2\n",
    "                # and increment p2 while not\n",
    "                # incrementing p1\n",
    "            elif len(s1) > len(s2):\n",
    "                p1 += 1\n",
    "                # same as above, except for p1 now\n",
    "        else:\n",
    "            return False\n",
    "    return True"
   ]
  },
  {
   "cell_type": "code",
   "execution_count": 2,
   "metadata": {},
   "outputs": [
    {
     "data": {
      "text/plain": [
       "False"
      ]
     },
     "execution_count": 2,
     "metadata": {},
     "output_type": "execute_result"
    }
   ],
   "source": [
    "s1 = 'minhthan'\n",
    "s2 = 'minhhthann'\n",
    "oneAway(s1,s2)"
   ]
  }
 ],
 "metadata": {
  "interpreter": {
   "hash": "1457781d4561370494842d8c66d37eac197c7ba6b884fdfe0105c720dd143999"
  },
  "kernelspec": {
   "display_name": "Python 3.9.7 64-bit",
   "language": "python",
   "name": "python3"
  },
  "language_info": {
   "codemirror_mode": {
    "name": "ipython",
    "version": 3
   },
   "file_extension": ".py",
   "mimetype": "text/x-python",
   "name": "python",
   "nbconvert_exporter": "python",
   "pygments_lexer": "ipython3",
   "version": "3.9.7"
  },
  "orig_nbformat": 4
 },
 "nbformat": 4,
 "nbformat_minor": 2
}
