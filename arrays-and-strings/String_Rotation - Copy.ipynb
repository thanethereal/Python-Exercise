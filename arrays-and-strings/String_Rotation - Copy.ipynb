{
 "cells": [
  {
   "cell_type": "code",
   "execution_count": 1,
   "metadata": {},
   "outputs": [
    {
     "name": "stdout",
     "output_type": "stream",
     "text": [
      "minhthan\n",
      "inhthanm\n",
      "nhthanmi\n",
      "hthanmin\n",
      "thanminh\n",
      "hanminht\n",
      "anminhth\n",
      "nminhtha\n"
     ]
    }
   ],
   "source": [
    "# A simple Python3 program to generate\n",
    "# all rotations of a given string\n",
    "\n",
    "# Print all the rotated strings.\n",
    "def printRotatedString(str):\n",
    "\n",
    "\tlenn = len(str)\n",
    "\n",
    "\t# Generate all rotations\n",
    "\t# one by one and print\n",
    "\ttemp = [0] * (lenn)\n",
    "\tfor i in range(lenn):\t\n",
    "\t\tj = i # Current index in str\n",
    "\t\tk = 0 # Current index in temp\n",
    "\n",
    "\t\t# Copying the second part from\n",
    "\t\t# the point of rotation.\n",
    "\t\twhile (j < len(str)):\n",
    "\t\t\n",
    "\t\t\ttemp[k] = str[j]\n",
    "\t\t\tk += 1\n",
    "\t\t\tj += 1\n",
    "\t\t\n",
    "\n",
    "\t\t# Copying the first part from\n",
    "\t\t# the point of rotation.\n",
    "\t\tj = 0\n",
    "\t\twhile (j < i) :\n",
    "\t\t\n",
    "\t\t\ttemp[k] = str[j]\n",
    "\t\t\tj += 1\n",
    "\t\t\tk += 1\n",
    "\t\t\n",
    "\n",
    "\t\tprint(*temp, sep = \"\")\n",
    "\t\n",
    "# Driver Code\n",
    "if __name__ == '__main__':\n",
    "\tstr = \"minhthan\"\n",
    "\tprintRotatedString(str)\n",
    "\t\n",
    "# This code is contributed\n",
    "# by SHUBHAMSINGH10\n"
   ]
  },
  {
   "cell_type": "code",
   "execution_count": 2,
   "metadata": {},
   "outputs": [
    {
     "name": "stdout",
     "output_type": "stream",
     "text": [
      "minhthan\n",
      "inhthanm\n",
      "nhthanmi\n",
      "hthanmin\n",
      "thanminh\n",
      "hanminht\n",
      "anminhth\n",
      "nminhtha\n"
     ]
    }
   ],
   "source": [
    "# An efficient Python3 program to print\n",
    "# all rotations of a string.\n",
    "\n",
    "# Print all the rotated string.\n",
    "def printRotatedString(string) :\n",
    "\t\n",
    "\tn = len(string)\n",
    "\n",
    "\t# Concatenate str with itself\n",
    "\ttemp = string + string\n",
    "\n",
    "\t# Print all substrings of size n.\n",
    "\t# Note that size of temp is 2n\n",
    "\tfor i in range(n) :\n",
    "\t\t\n",
    "\t\tfor j in range(n) :\n",
    "\t\t\tprint(temp[i + j], end = \"\")\n",
    "\t\t\t\n",
    "\t\tprint()\n",
    "\n",
    "# Driver Code\n",
    "if __name__ == \"__main__\" :\n",
    "\n",
    "\tstring = \"minhthan\"\n",
    "\tprintRotatedString(string)\n",
    "\n",
    "# This code is contributed by Ryuga\n"
   ]
  },
  {
   "cell_type": "code",
   "execution_count": 3,
   "metadata": {},
   "outputs": [
    {
     "name": "stdout",
     "output_type": "stream",
     "text": [
      "No\n"
     ]
    }
   ],
   "source": [
    "# Python 3 program to check if a string\n",
    "# is two time rotation of another string.\n",
    "\n",
    "# Function to check if string2 is\n",
    "# obtained by string 1\n",
    "def isRotated(str1, str2):\n",
    "\n",
    "\tif (len(str1) != len(str2)):\n",
    "\t\treturn False\n",
    "\t\n",
    "\tif(len(str1) < 2):\n",
    "\t\treturn str1 == str2\n",
    "\tclock_rot = \"\"\n",
    "\tanticlock_rot = \"\"\n",
    "\tl = len(str2)\n",
    "\n",
    "\t# Initialize string as anti-clockwise rotation\n",
    "\tanticlock_rot = (anticlock_rot + str2[l - 2:] +\n",
    "\t\t\t\t\t\t\t\t\tstr2[0: l - 2])\n",
    "\t\n",
    "\t# Initialize string as clock wise rotation\n",
    "\tclock_rot = clock_rot + str2[2:] + str2[0:2]\n",
    "\n",
    "\t# check if any of them is equal to string1\n",
    "\treturn (str1 == clock_rot or\n",
    "\t\t\tstr1 == anticlock_rot)\n",
    "\n",
    "# Driver code\n",
    "if __name__ == \"__main__\":\n",
    "\t\n",
    "\tstr1 = \"minhthan\"\n",
    "\tstr2 = \"mithannh\"\n",
    "if isRotated(str1, str2):\n",
    "\tprint(\"Yes\")\n",
    "else:\n",
    "\tprint(\"No\")\n",
    "\n",
    "# This code is contributed by ita_c\n"
   ]
  },
  {
   "cell_type": "code",
   "execution_count": 4,
   "metadata": {},
   "outputs": [
    {
     "name": "stdout",
     "output_type": "stream",
     "text": [
      "Strings are rotations of each other\n"
     ]
    }
   ],
   "source": [
    "# Python program to check if strings are rotations of\n",
    "# each other or not\n",
    "\n",
    "# Function checks if passed strings (str1 and str2)\n",
    "# are rotations of each other\n",
    "def areRotations(string1, string2):\n",
    "\tsize1 = len(string1)\n",
    "\tsize2 = len(string2)\n",
    "\ttemp = ''\n",
    "\n",
    "\t# Check if sizes of two strings are same\n",
    "\tif size1 != size2:\n",
    "\t\treturn 0\n",
    "\n",
    "\t# Create a temp string with value str1.str1\n",
    "\ttemp = string1 + string1\n",
    "\n",
    "\t# Now check if str2 is a substring of temp\n",
    "\t# string.count returns the number of occurrences of\n",
    "\t# the second string in temp\n",
    "\tif (temp.count(string2)> 0):\n",
    "\t\treturn 1\n",
    "\telse:\n",
    "\t\treturn 0\n",
    "\n",
    "# Driver program to test the above function\n",
    "string1 = \"AACD\"\n",
    "string2 = \"ACDA\"\n",
    "\n",
    "if areRotations(string1, string2):\n",
    "\tprint(\"Strings are rotations of each other\")\n",
    "else:\n",
    "\tprint(\"Strings are not rotations of each other\")\n",
    "\n",
    "# This code is contributed by Bhavya Jain\n"
   ]
  },
  {
   "cell_type": "code",
   "execution_count": 5,
   "metadata": {},
   "outputs": [
    {
     "name": "stdout",
     "output_type": "stream",
     "text": [
      "1\n"
     ]
    }
   ],
   "source": [
    "# Python program to check if\n",
    "# two strings are rotations\n",
    "# of each other\n",
    "def isRotation(a: str, b: str) -> bool:\n",
    "\tn = len(a)\n",
    "\tm = len(b)\n",
    "\tif (n != m):\n",
    "\t\treturn False\n",
    "\n",
    "\t# create lps[] that\n",
    "\t# will hold the longest\n",
    "\t# prefix suffix values\n",
    "\t# for pattern\n",
    "\tlps = [0 for _ in range(n)]\n",
    "\n",
    "\t# length of the previous\n",
    "\t# longest prefix suffix\n",
    "\tlength = 0\n",
    "\ti = 1\n",
    "\n",
    "\t# lps[0] is always 0\n",
    "\tlps[0] = 0\n",
    "\n",
    "\t# the loop calculates\n",
    "\t# lps[i] for i = 1 to n-1\n",
    "\twhile (i < n):\n",
    "\t\tif (a[i] == b[length]):\n",
    "\t\t\tlength += 1\n",
    "\t\t\tlps[i] = length\n",
    "\t\t\ti += 1\n",
    "\t\telse:\n",
    "\t\t\tif (length == 0):\n",
    "\t\t\t\tlps[i] = 0\n",
    "\t\t\t\ti += 1\n",
    "\t\t\telse:\n",
    "\t\t\t\tlength = lps[length - 1]\n",
    "\ti = 0\n",
    "\n",
    "\t# Match from that rotating\n",
    "\t# point\n",
    "\tfor k in range(lps[n - 1], m):\n",
    "\t\tif (b[k] != a[i]):\n",
    "\t\t\treturn False\n",
    "\t\ti += 1\n",
    "\treturn True\n",
    "\n",
    "# Driver code\n",
    "if __name__ == \"__main__\":\n",
    "\n",
    "\ts1 = \"ABACD\"\n",
    "\ts2 = \"CDABA\"\n",
    "\tprint(\"1\" if isRotation(s1, s2) else \"0\")\n",
    "\n",
    "# This code is contributed by sanjeev2552\n"
   ]
  }
 ],
 "metadata": {
  "interpreter": {
   "hash": "1457781d4561370494842d8c66d37eac197c7ba6b884fdfe0105c720dd143999"
  },
  "kernelspec": {
   "display_name": "Python 3.9.7 64-bit",
   "language": "python",
   "name": "python3"
  },
  "language_info": {
   "codemirror_mode": {
    "name": "ipython",
    "version": 3
   },
   "file_extension": ".py",
   "mimetype": "text/x-python",
   "name": "python",
   "nbconvert_exporter": "python",
   "pygments_lexer": "ipython3",
   "version": "3.9.7"
  },
  "orig_nbformat": 4
 },
 "nbformat": 4,
 "nbformat_minor": 2
}
